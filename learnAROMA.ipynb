{
 "metadata": {
  "language_info": {
   "codemirror_mode": {
    "name": "ipython",
    "version": 3
   },
   "file_extension": ".py",
   "mimetype": "text/x-python",
   "name": "python",
   "nbconvert_exporter": "python",
   "pygments_lexer": "ipython3",
   "version": 3
  },
  "orig_nbformat": 2
 },
 "nbformat": 4,
 "nbformat_minor": 2,
 "cells": [
  {
   "source": [
    "# Description\n",
    "**input**  \n",
    "S: interaction matrix of N users on M_1 mature items   \n",
    "u_i: i = 1 ~ N, users latent vectors   \n",
    "a_j: j = 1 ~ M_1, mature items attribute vectors  \n",
    "r: regularization parameter  \n",
    "  \n",
    "**output**   \n",
    "W: K*L attribute-to-feature mapping matrix"
   ],
   "cell_type": "markdown",
   "metadata": {}
  },
  {
   "cell_type": "code",
   "execution_count": null,
   "metadata": {},
   "outputs": [],
   "source": []
  }
 ]
}